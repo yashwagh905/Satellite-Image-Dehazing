{
 "cells": [
  {
   "cell_type": "code",
   "execution_count": 1,
   "metadata": {},
   "outputs": [],
   "source": [
    "# %%\n",
    "import torch\n",
    "import torch.nn as nn\n",
    "import torch.nn.functional as F\n",
    "import torch.optim as optim\n",
    "from PIL import Image, ImageDraw, ImageFilter, ImageFont\n",
    "import os\n",
    "from pathlib import Path\n",
    "import mimetypes\n",
    "from glob import glob\n",
    "import matplotlib.pyplot as plt\n",
    "import numpy as np\n",
    "import itertools\n",
    "import logging\n",
    "from os.path import splitext\n",
    "from os import listdir\n",
    "from torch.utils.data import Dataset\n",
    "from torchvision.models import resnet34\n",
    "from torchvision.transforms import Compose\n",
    "\n",
    "os.environ[\"TORCH_HOME\"] = \"C:/Users/Yash/Downloads/dense haze images/Useful\""
   ]
  },
  {
   "cell_type": "code",
   "execution_count": 2,
   "metadata": {},
   "outputs": [],
   "source": [
    "# %%\n",
    "path = \"C:/Users/Yash/Downloads/dense haze images\"\n",
    "path_hr = path + \"/GT\"\n",
    "path_lr = path + \"/hazy\""
   ]
  },
  {
   "cell_type": "code",
   "execution_count": 3,
   "metadata": {},
   "outputs": [],
   "source": [
    "# %%\n",
    "\n",
    "\n",
    "def plot_img_and_mask(img, mask):\n",
    "    classes = mask.shape[2] if len(mask.shape) > 2 else 1\n",
    "    fig, ax = plt.subplots(1, classes + 1)\n",
    "    ax[0].set_title(\"Input image\")\n",
    "    ax[0].imshow(img)\n",
    "    if classes > 1:\n",
    "        for i in range(classes):\n",
    "            ax[i + 1].set_title(f\"Output mask (class {i+1})\")\n",
    "            ax[i + 1].imshow(mask[:, :, i])\n",
    "    else:\n",
    "        ax[1].set_title(f\"Output mask\")\n",
    "        ax[1].imshow(mask)\n",
    "    plt.xticks([]), plt.yticks([])\n",
    "    plt.show()"
   ]
  },
  {
   "cell_type": "code",
   "execution_count": 4,
   "metadata": {},
   "outputs": [],
   "source": [
    "# %%\n",
    "\n",
    "\n",
    "class BasicDataset(Dataset):\n",
    "    def __init__(self, imgs_dir, masks_dir, scale=1):\n",
    "        self.imgs_dir = imgs_dir\n",
    "        self.masks_dir = masks_dir\n",
    "        self.scale = scale\n",
    "        assert 0 < scale <= 1, \"Scale must be between 0 and 1\"\n",
    "\n",
    "        self.ids = [\n",
    "            splitext(file)[0] for file in listdir(imgs_dir) if not file.startswith(\".\")\n",
    "        ]\n",
    "        # self.c = len(self.ids)\n",
    "\n",
    "    #         logging.info(f'Creating dataset with {len(self.ids)} examples')\n",
    "\n",
    "    def __len__(self):\n",
    "        return len(self.ids)\n",
    "\n",
    "    @classmethod\n",
    "    def preprocess(cls, pil_img, scale):\n",
    "        w, h = pil_img.size\n",
    "        newW, newH = int(scale * w), int(scale * h)\n",
    "        assert newW > 0 and newH > 0, \"Scale is too small\"\n",
    "        pil_img = pil_img.resize((128, 128))\n",
    "\n",
    "        img_nd = np.array(pil_img)\n",
    "\n",
    "        if len(img_nd.shape) == 2:\n",
    "            img_nd = np.expand_dims(img_nd, axis=2)\n",
    "\n",
    "        # HWC to CHW\n",
    "        img_trans = img_nd.transpose((2, 0, 1))\n",
    "        if img_trans.max() > 1:\n",
    "            img_trans = img_trans / 255\n",
    "\n",
    "        return img_trans\n",
    "\n",
    "    def __getitem__(self, i):\n",
    "        idx = self.ids[i]\n",
    "        mask_file = self.masks_dir + \"/\" + idx + \".png\"\n",
    "        img_file = self.imgs_dir + \"/\" + idx + \".png\"\n",
    "\n",
    "        mask = Image.open(mask_file)\n",
    "        img = Image.open(img_file)\n",
    "\n",
    "        assert (\n",
    "            img.size == mask.size\n",
    "        ), f\"Image and mask {idx} should be the same size, but are {img.size} and {mask.size}\"\n",
    "\n",
    "        img = self.preprocess(img, self.scale)\n",
    "        mask = self.preprocess(mask, self.scale)\n",
    "\n",
    "        return (\n",
    "            torch.from_numpy(img).type(torch.FloatTensor),\n",
    "            torch.from_numpy(mask).type(torch.FloatTensor),\n",
    "        )"
   ]
  },
  {
   "cell_type": "code",
   "execution_count": 9,
   "metadata": {},
   "outputs": [
    {
     "ename": "FileNotFoundError",
     "evalue": "[WinError 3] The system cannot find the path specified: 'C:/Users/Yash/Downloads/dense haze images/normal'",
     "output_type": "error",
     "traceback": [
      "\u001b[1;31m---------------------------------------------------------------------------\u001b[0m",
      "\u001b[1;31mFileNotFoundError\u001b[0m                         Traceback (most recent call last)",
      "Input \u001b[1;32mIn [9]\u001b[0m, in \u001b[0;36m<cell line: 2>\u001b[1;34m()\u001b[0m\n\u001b[0;32m      1\u001b[0m \u001b[38;5;66;03m# %%\u001b[39;00m\n\u001b[1;32m----> 2\u001b[0m dataset \u001b[38;5;241m=\u001b[39m \u001b[43mBasicDataset\u001b[49m\u001b[43m(\u001b[49m\u001b[43mpath_hr\u001b[49m\u001b[43m,\u001b[49m\u001b[43m \u001b[49m\u001b[43mpath_lr\u001b[49m\u001b[43m,\u001b[49m\u001b[43m \u001b[49m\u001b[43mscale\u001b[49m\u001b[38;5;241;43m=\u001b[39;49m\u001b[38;5;241;43m0.5\u001b[39;49m\u001b[43m)\u001b[49m\n",
      "Input \u001b[1;32mIn [5]\u001b[0m, in \u001b[0;36mBasicDataset.__init__\u001b[1;34m(self, imgs_dir, masks_dir, scale)\u001b[0m\n\u001b[0;32m      8\u001b[0m \u001b[38;5;28mself\u001b[39m\u001b[38;5;241m.\u001b[39mscale \u001b[38;5;241m=\u001b[39m scale\n\u001b[0;32m      9\u001b[0m \u001b[38;5;28;01massert\u001b[39;00m \u001b[38;5;241m0\u001b[39m \u001b[38;5;241m<\u001b[39m scale \u001b[38;5;241m<\u001b[39m\u001b[38;5;241m=\u001b[39m \u001b[38;5;241m1\u001b[39m, \u001b[38;5;124m\"\u001b[39m\u001b[38;5;124mScale must be between 0 and 1\u001b[39m\u001b[38;5;124m\"\u001b[39m\n\u001b[0;32m     11\u001b[0m \u001b[38;5;28mself\u001b[39m\u001b[38;5;241m.\u001b[39mids \u001b[38;5;241m=\u001b[39m [\n\u001b[1;32m---> 12\u001b[0m     splitext(file)[\u001b[38;5;241m0\u001b[39m] \u001b[38;5;28;01mfor\u001b[39;00m file \u001b[38;5;129;01min\u001b[39;00m \u001b[43mlistdir\u001b[49m\u001b[43m(\u001b[49m\u001b[43mimgs_dir\u001b[49m\u001b[43m)\u001b[49m \u001b[38;5;28;01mif\u001b[39;00m \u001b[38;5;129;01mnot\u001b[39;00m file\u001b[38;5;241m.\u001b[39mstartswith(\u001b[38;5;124m\"\u001b[39m\u001b[38;5;124m.\u001b[39m\u001b[38;5;124m\"\u001b[39m)\n\u001b[0;32m     13\u001b[0m ]\n",
      "\u001b[1;31mFileNotFoundError\u001b[0m: [WinError 3] The system cannot find the path specified: 'C:/Users/Yash/Downloads/dense haze images/normal'"
     ]
    }
   ],
   "source": [
    "# %%\n",
    "dataset = BasicDataset(path_hr, path_lr, scale=0.5)"
   ]
  },
  {
   "cell_type": "code",
   "execution_count": 7,
   "metadata": {},
   "outputs": [
    {
     "ename": "NameError",
     "evalue": "name 'dataset' is not defined",
     "output_type": "error",
     "traceback": [
      "\u001b[1;31m---------------------------------------------------------------------------\u001b[0m",
      "\u001b[1;31mNameError\u001b[0m                                 Traceback (most recent call last)",
      "Input \u001b[1;32mIn [7]\u001b[0m, in \u001b[0;36m<cell line: 1>\u001b[1;34m()\u001b[0m\n\u001b[1;32m----> 1\u001b[0m \u001b[43mdataset\u001b[49m\u001b[38;5;241m.\u001b[39m\u001b[38;5;21m__getitem__\u001b[39m(\u001b[38;5;241m1\u001b[39m)[\u001b[38;5;241m0\u001b[39m]\u001b[38;5;241m.\u001b[39mpermute(\u001b[38;5;241m1\u001b[39m, \u001b[38;5;241m2\u001b[39m, \u001b[38;5;241m0\u001b[39m)\u001b[38;5;241m.\u001b[39mshape\n",
      "\u001b[1;31mNameError\u001b[0m: name 'dataset' is not defined"
     ]
    }
   ],
   "source": [
    "dataset.__getitem__(1)[0].permute(1, 2, 0).shape"
   ]
  },
  {
   "cell_type": "code",
   "execution_count": null,
   "metadata": {},
   "outputs": [
    {
     "ename": "NameError",
     "evalue": "name 'dataset' is not defined",
     "output_type": "error",
     "traceback": [
      "\u001b[1;31m---------------------------------------------------------------------------\u001b[0m",
      "\u001b[1;31mNameError\u001b[0m                                 Traceback (most recent call last)",
      "Input \u001b[1;32mIn [8]\u001b[0m, in \u001b[0;36m<cell line: 2>\u001b[1;34m()\u001b[0m\n\u001b[0;32m      1\u001b[0m \u001b[38;5;66;03m# %%\u001b[39;00m\n\u001b[1;32m----> 2\u001b[0m plt\u001b[38;5;241m.\u001b[39mimshow(\u001b[43mdataset\u001b[49m\u001b[38;5;241m.\u001b[39m\u001b[38;5;21m__getitem__\u001b[39m(\u001b[38;5;241m1\u001b[39m)[\u001b[38;5;241m0\u001b[39m]\u001b[38;5;241m.\u001b[39mpermute(\u001b[38;5;241m1\u001b[39m, \u001b[38;5;241m2\u001b[39m, \u001b[38;5;241m0\u001b[39m))\n",
      "\u001b[1;31mNameError\u001b[0m: name 'dataset' is not defined"
     ]
    }
   ],
   "source": [
    "# %%\n",
    "plt.imshow(dataset.__getitem__(1)[0].permute(1, 2, 0))"
   ]
  },
  {
   "cell_type": "code",
   "execution_count": 8,
   "metadata": {},
   "outputs": [
    {
     "data": {
      "text/plain": [
       "<matplotlib.image.AxesImage at 0x7f55ce9f42d0>"
      ]
     },
     "execution_count": 8,
     "metadata": {},
     "output_type": "execute_result"
    },
    {
     "data": {
      "image/png": "[encoded data removed]",
      "text/plain": [
       "<Figure size 432x288 with 1 Axes>"
      ]
     },
     "metadata": {
      "needs_background": "light"
     },
     "output_type": "display_data"
    }
   ],
   "source": [
    "# %%\n",
    "plt.imshow(dataset.__getitem__(1)[1].permute(1, 2, 0))"
   ]
  },
  {
   "cell_type": "markdown",
   "metadata": {},
   "source": [
    "# inits"
   ]
  },
  {
   "cell_type": "code",
   "execution_count": 9,
   "metadata": {},
   "outputs": [],
   "source": [
    "# %%\n",
    "def truncated_normal_(tensor, mean=0, std=1):\n",
    "    size = tensor.shape\n",
    "    tmp = tensor.new_empty(size + (4,)).normal_()\n",
    "    valid = (tmp < 2) & (tmp > -2)\n",
    "    ind = valid.max(-1, keepdim=True)[1]\n",
    "    tensor.data.copy_(tmp.gather(-1, ind).squeeze(-1))\n",
    "    tensor.data.mul_(std).add_(mean)\n",
    "\n",
    "\n",
    "def init_weights(m):\n",
    "    if type(m) == nn.Conv2d or type(m) == nn.ConvTranspose2d:\n",
    "        nn.init.kaiming_normal_(m.weight, mode=\"fan_in\", nonlinearity=\"relu\")\n",
    "        # nn.init.normal_(m.weight, std=0.001)\n",
    "        # nn.init.normal_(m.bias, std=0.001)\n",
    "        truncated_normal_(m.bias, mean=0, std=0.001)"
   ]
  },
  {
   "cell_type": "markdown",
   "metadata": {},
   "source": [
    "# Blocks for Unet"
   ]
  },
  {
   "cell_type": "code",
   "execution_count": 10,
   "metadata": {},
   "outputs": [],
   "source": [
    "class DownConvBlock(nn.Module):\n",
    "    def __init__(self, input_dim, output_dim, initializers, padding, pool=True):\n",
    "        super(DownConvBlock, self).__init__()\n",
    "        layers = []\n",
    "\n",
    "        if pool:\n",
    "            layers.append(\n",
    "                nn.AvgPool2d(kernel_size=2, stride=2, padding=0, ceil_mode=True)\n",
    "            )\n",
    "\n",
    "        layers.append(\n",
    "            nn.Conv2d(\n",
    "                input_dim, output_dim, kernel_size=3, stride=1, padding=int(padding)\n",
    "            )\n",
    "        )\n",
    "        layers.append(nn.ReLU(inplace=True))\n",
    "        layers.append(\n",
    "            nn.Conv2d(\n",
    "                output_dim, output_dim, kernel_size=3, stride=1, padding=int(padding)\n",
    "            )\n",
    "        )\n",
    "        layers.append(nn.ReLU(inplace=True))\n",
    "        layers.append(\n",
    "            nn.Conv2d(\n",
    "                output_dim, output_dim, kernel_size=3, stride=1, padding=int(padding)\n",
    "            )\n",
    "        )\n",
    "        layers.append(nn.ReLU(inplace=True))\n",
    "\n",
    "        self.layers = nn.Sequential(*layers)\n",
    "\n",
    "        self.layers.apply(init_weights)\n",
    "\n",
    "    def forward(self, patch):\n",
    "        return self.layers(patch)"
   ]
  },
  {
   "cell_type": "code",
   "execution_count": 11,
   "metadata": {},
   "outputs": [],
   "source": [
    "class UpConvBlock(nn.Module):\n",
    "    def __init__(self, input_dim, output_dim, initializers, padding, bilinear=True):\n",
    "        super(UpConvBlock, self).__init__()\n",
    "        self.bilinear = bilinear\n",
    "\n",
    "        if not self.bilinear:\n",
    "            self.upconv_layer = nn.ConvTranspose2d(\n",
    "                input_dim, output_dim, kernel_size=2, stride=2\n",
    "            )\n",
    "            self.upconv_layer.apply(init_weights)\n",
    "\n",
    "        self.conv_block = DownConvBlock(\n",
    "            input_dim, output_dim, initializers, padding, pool=False\n",
    "        )\n",
    "\n",
    "    def forward(self, x, bridge):\n",
    "        if self.bilinear:\n",
    "            up = nn.functional.interpolate(\n",
    "                x, mode=\"bilinear\", scale_factor=2, align_corners=True\n",
    "            )\n",
    "        else:\n",
    "            up = self.upconv_layer(x)\n",
    "\n",
    "        assert up.shape[3] == bridge.shape[3]\n",
    "        out = torch.cat([up, bridge], 1)\n",
    "        out = self.conv_block(out)\n",
    "\n",
    "        return out"
   ]
  },
  {
   "cell_type": "markdown",
   "metadata": {},
   "source": [
    "\n",
    "# Unet "
   ]
  },
  {
   "cell_type": "markdown",
   "metadata": {},
   "source": [
    "https://arxiv.org/abs/1505.04597\n",
    "\n",
    "@article{DBLP:journals/corr/RonnebergerFB15,\n",
    "  author    = {Olaf Ronneberger and\n",
    "               Philipp Fischer and\n",
    "               Thomas Brox},\n",
    "  title     = {U-Net: Convolutional Networks for Biomedical Image Segmentation},\n",
    "  journal   = {CoRR},\n",
    "  volume    = {abs/1505.04597},\n",
    "  year      = {2015},\n",
    "  url       = {http://arxiv.org/abs/1505.04597},\n",
    "  archivePrefix = {arXiv},\n",
    "  eprint    = {1505.04597},\n",
    "  timestamp = {Mon, 13 Aug 2018 16:46:52 +0200},\n",
    "  biburl    = {https://dblp.org/rec/journals/corr/RonnebergerFB15.bib},\n",
    "  bibsource = {dblp computer science bibliography, https://dblp.org}\n",
    "}\n",
    "\n"
   ]
  },
  {
   "cell_type": "code",
   "execution_count": 115,
   "metadata": {},
   "outputs": [],
   "source": [
    "# %%\n",
    "class Unet(nn.Module):\n",
    "    def __init__(\n",
    "        self,\n",
    "        input_channels,\n",
    "        num_classes,\n",
    "        num_filters,\n",
    "        initializers,\n",
    "        apply_last_layer=True,\n",
    "        padding=True,\n",
    "    ):\n",
    "        super(Unet, self).__init__()\n",
    "        self.input_channels = input_channels\n",
    "        self.num_classes = num_classes\n",
    "        self.num_filters = num_filters\n",
    "        self.padding = padding\n",
    "        self.activation_maps = []\n",
    "        self.apply_last_layer = apply_last_layer\n",
    "        self.contracting_path = nn.ModuleList()\n",
    "        #         self.pl = nn.modules.pixelshuffle\n",
    "\n",
    "        for i in range(len(self.num_filters)):\n",
    "            input = self.input_channels if i == 0 else output\n",
    "            output = self.num_filters[i]\n",
    "\n",
    "            if i == 0:\n",
    "                pool = False\n",
    "            else:\n",
    "                pool = True\n",
    "\n",
    "            self.contracting_path.append(\n",
    "                DownConvBlock(input, output, initializers, padding, pool=pool)\n",
    "            )\n",
    "\n",
    "        self.upsampling_path = nn.ModuleList()\n",
    "\n",
    "        n = len(self.num_filters) - 2\n",
    "        for i in range(n, -1, -1):\n",
    "            input = output + self.num_filters[i]\n",
    "            output = self.num_filters[i]\n",
    "            self.upsampling_path.append(\n",
    "                UpConvBlock(input, output, initializers, padding)\n",
    "            )\n",
    "\n",
    "        if self.apply_last_layer:\n",
    "            self.last_layer = nn.Conv2d(output, num_classes, kernel_size=1)\n",
    "            # nn.init.kaiming_normal_(self.last_layer.weight, mode='fan_in',nonlinearity='relu')\n",
    "            # nn.init.normal_(self.last_layer.bias)\n",
    "\n",
    "    def forward(self, x, val):\n",
    "        blocks = []\n",
    "        for i, down in enumerate(self.contracting_path):\n",
    "            x = down(x)\n",
    "            if i != len(self.contracting_path) - 1:\n",
    "                blocks.append(x)\n",
    "\n",
    "        for i, up in enumerate(self.upsampling_path):\n",
    "            x = up(x, blocks[-i - 1])\n",
    "\n",
    "        del blocks\n",
    "\n",
    "        # Used for saving the activations and plotting\n",
    "        #         if val:\n",
    "        #             self.activation_maps.append(x)\n",
    "\n",
    "        if self.apply_last_layer:\n",
    "            x = self.last_layer(x)\n",
    "        #         x = self.pl(x)\n",
    "\n",
    "        return x"
   ]
  },
  {
   "cell_type": "code",
   "execution_count": 116,
   "metadata": {},
   "outputs": [],
   "source": [
    "# %%\n",
    "\n",
    "from torch.utils.data.sampler import SubsetRandomSampler\n",
    "from torch.utils.data import DataLoader\n",
    "from tqdm import tqdm_notebook, tqdm"
   ]
  },
  {
   "cell_type": "code",
   "execution_count": 117,
   "metadata": {},
   "outputs": [],
   "source": [
    "def l2_regularisation(m):\n",
    "    l2_reg = None\n",
    "\n",
    "    for W in m.parameters():\n",
    "        if l2_reg is None:\n",
    "            l2_reg = W.norm(2)\n",
    "        else:\n",
    "            l2_reg = l2_reg + W.norm(2)\n",
    "    return l2_reg"
   ]
  },
  {
   "cell_type": "code",
   "execution_count": 118,
   "metadata": {},
   "outputs": [],
   "source": [
    "# %%\n",
    "dataset_size = len(dataset)\n",
    "indices = list(range(dataset_size))\n",
    "split = int(np.floor(0.1 * dataset_size))\n",
    "np.random.shuffle(indices)\n",
    "train_indices, test_indices = indices[split:], indices[:split]"
   ]
  },
  {
   "cell_type": "code",
   "execution_count": 119,
   "metadata": {},
   "outputs": [
    {
     "name": "stdout",
     "output_type": "stream",
     "text": [
      "Number of training/test patches: (50, 5)\n"
     ]
    }
   ],
   "source": [
    "#%%\n",
    "train_sampler = SubsetRandomSampler(train_indices)\n",
    "test_sampler = SubsetRandomSampler(test_indices)\n",
    "train_loader = DataLoader(dataset, batch_size=16, sampler=train_sampler)\n",
    "test_loader = DataLoader(dataset, batch_size=16, sampler=test_sampler)\n",
    "print(\"Number of training/test patches:\", (len(train_indices), len(test_indices)))"
   ]
  },
  {
   "cell_type": "code",
   "execution_count": 120,
   "metadata": {},
   "outputs": [],
   "source": [
    "import gc"
   ]
  },
  {
   "cell_type": "code",
   "execution_count": 190,
   "metadata": {},
   "outputs": [
    {
     "data": {
      "text/plain": [
       "3991"
      ]
     },
     "execution_count": 190,
     "metadata": {},
     "output_type": "execute_result"
    }
   ],
   "source": [
    "net = None\n",
    "gc.collect()"
   ]
  },
  {
   "cell_type": "code",
   "execution_count": 191,
   "metadata": {
    "scrolled": true
   },
   "outputs": [],
   "source": [
    "# %%\n",
    "net = Unet(\n",
    "    input_channels=3,\n",
    "    num_classes=3,\n",
    "    num_filters=[32, 64, 128, 192],\n",
    "    initializers={\"w\": \"he_uniform\", \"b\": \"normal\"},\n",
    ")"
   ]
  },
  {
   "cell_type": "code",
   "execution_count": 192,
   "metadata": {},
   "outputs": [],
   "source": [
    "net = net.to(\"cuda\")"
   ]
  },
  {
   "cell_type": "code",
   "execution_count": 193,
   "metadata": {},
   "outputs": [],
   "source": [
    "from tqdm import trange"
   ]
  },
  {
   "cell_type": "code",
   "execution_count": 195,
   "metadata": {},
   "outputs": [],
   "source": [
    "# %%\n",
    "optimizer = torch.optim.AdamW(net.parameters(), lr=1e-5, weight_decay=10e-3)\n",
    "criterion = nn.MSELoss(reduce=\"mean\").to(\"cuda\")"
   ]
  },
  {
   "cell_type": "code",
   "execution_count": null,
   "metadata": {
    "scrolled": true
   },
   "outputs": [
    {
     "name": "stderr",
     "output_type": "stream",
     "text": [
      "ML (loss=0.00745468):   0%|          | 0/4000 [00:04<?, ?it/s]Clipping input data to the valid range for imshow with RGB data ([0..1] for floats or [0..255] for integers).\n",
      "ML (loss=0.00712608):   2%|▎         | 100/4000 [07:20<4:44:07,  4.37s/it]Clipping input data to the valid range for imshow with RGB data ([0..1] for floats or [0..255] for integers).\n",
      "ML (loss=0.0061933):   5%|▌         | 200/4000 [14:39<4:42:42,  4.46s/it] Clipping input data to the valid range for imshow with RGB data ([0..1] for floats or [0..255] for integers).\n",
      "ML (loss=0.00377577):   8%|▊         | 300/4000 [21:59<4:34:22,  4.45s/it]Clipping input data to the valid range for imshow with RGB data ([0..1] for floats or [0..255] for integers).\n",
      "ML (loss=0.0042257):  10%|█         | 400/4000 [29:22<4:14:35,  4.24s/it] Clipping input data to the valid range for imshow with RGB data ([0..1] for floats or [0..255] for integers).\n",
      "ML (loss=0.00501309):  18%|█▊        | 700/4000 [51:08<3:52:16,  4.22s/it]Clipping input data to the valid range for imshow with RGB data ([0..1] for floats or [0..255] for integers).\n",
      "ML (loss=0.00105043):  32%|███▎      | 1300/4000 [1:33:59<3:10:30,  4.23s/it] Clipping input data to the valid range for imshow with RGB data ([0..1] for floats or [0..255] for integers).\n",
      "ML (loss=0.000712582):  57%|█████▊    | 2300/4000 [2:49:32<2:04:03,  4.38s/it]Clipping input data to the valid range for imshow with RGB data ([0..1] for floats or [0..255] for integers).\n",
      "ML (loss=0.000384583):  74%|███████▍  | 2965/4000 [3:37:37<1:13:41,  4.27s/it]"
     ]
    }
   ],
   "source": [
    "epochs = 4000\n",
    "t = trange(epochs, desc=\"ML\")\n",
    "epoch_loss = []\n",
    "for epoch in t:\n",
    "\n",
    "    net.train()\n",
    "    for step, (patch, mask) in enumerate(train_loader):\n",
    "        patch = patch.to(\"cuda\")\n",
    "        mask = mask.to(\"cuda\")\n",
    "        mask2 = torch.unsqueeze(mask, 1)\n",
    "        ou = net.forward(patch, mask)\n",
    "        #         print(mask.shape, ou.shape)\n",
    "        loss = criterion(mask.squeeze(1), ou)\n",
    "        epoch_loss.append(loss.item())\n",
    "        t.set_description(\"ML (loss=%g)\" % loss)\n",
    "        optimizer.zero_grad()\n",
    "        #         optimizer.zero_grad()\n",
    "        loss.backward()\n",
    "        #         optimizer2.step()\n",
    "        optimizer.step()\n",
    "    if epoch % 100 == 0:\n",
    "        plt.cla()\n",
    "        plt.clf()\n",
    "        im = net.forward(patch, mask).__getitem__(1).permute(1, 2, 0)\n",
    "        plt.imshow(im.cpu().detach().numpy())\n",
    "        plt.savefig(f\"intermediate/{epoch}.jpg\")\n",
    "    if epoch % 500 == 0:\n",
    "        torch.save(net.state_dict(), \"cpt/{}.pth\".format(epoch))\n",
    "        im = net.forward(patch, mask).__getitem__(1).permute(1, 2, 0)"
   ]
  },
  {
   "cell_type": "code",
   "execution_count": 188,
   "metadata": {},
   "outputs": [],
   "source": [
    "def save_im(ep):\n",
    "    net.eval()\n",
    "    for step, (patch, mask) in enumerate(train_loader):\n",
    "        patch = patch.to(\"cuda\")\n",
    "        mask = mask.to(\"cuda\")\n",
    "        mask2 = torch.unsqueeze(mask, 1)\n",
    "        im = net.forward(patch, mask).__getitem__(1).permute(1, 2, 0)\n",
    "        print(im.shape)\n",
    "        plt.imshow(im.cpu().detach().numpy())\n",
    "        print(cur_e)\n",
    "        plt.savefig(f\"intermediate/{ep}.jpg\")\n",
    "        break"
   ]
  },
  {
   "cell_type": "code",
   "execution_count": null,
   "metadata": {},
   "outputs": [],
   "source": []
  },
  {
   "cell_type": "code",
   "execution_count": null,
   "metadata": {},
   "outputs": [],
   "source": []
  },
  {
   "cell_type": "code",
   "execution_count": null,
   "metadata": {},
   "outputs": [],
   "source": []
  },
  {
   "cell_type": "code",
   "execution_count": null,
   "metadata": {},
   "outputs": [],
   "source": []
  },
  {
   "cell_type": "code",
   "execution_count": null,
   "metadata": {},
   "outputs": [],
   "source": []
  },
  {
   "cell_type": "code",
   "execution_count": null,
   "metadata": {},
   "outputs": [],
   "source": []
  },
  {
   "cell_type": "code",
   "execution_count": null,
   "metadata": {},
   "outputs": [],
   "source": []
  },
  {
   "cell_type": "code",
   "execution_count": null,
   "metadata": {},
   "outputs": [],
   "source": []
  },
  {
   "cell_type": "code",
   "execution_count": null,
   "metadata": {},
   "outputs": [],
   "source": []
  },
  {
   "cell_type": "code",
   "execution_count": null,
   "metadata": {},
   "outputs": [],
   "source": []
  },
  {
   "cell_type": "code",
   "execution_count": null,
   "metadata": {},
   "outputs": [],
   "source": []
  },
  {
   "cell_type": "code",
   "execution_count": null,
   "metadata": {},
   "outputs": [],
   "source": []
  },
  {
   "cell_type": "code",
   "execution_count": null,
   "metadata": {},
   "outputs": [],
   "source": []
  },
  {
   "cell_type": "code",
   "execution_count": null,
   "metadata": {},
   "outputs": [],
   "source": []
  },
  {
   "cell_type": "code",
   "execution_count": null,
   "metadata": {},
   "outputs": [],
   "source": []
  },
  {
   "cell_type": "code",
   "execution_count": null,
   "metadata": {},
   "outputs": [],
   "source": []
  },
  {
   "cell_type": "code",
   "execution_count": null,
   "metadata": {},
   "outputs": [],
   "source": []
  },
  {
   "cell_type": "code",
   "execution_count": null,
   "metadata": {},
   "outputs": [],
   "source": []
  },
  {
   "cell_type": "code",
   "execution_count": null,
   "metadata": {},
   "outputs": [],
   "source": []
  },
  {
   "cell_type": "code",
   "execution_count": null,
   "metadata": {},
   "outputs": [],
   "source": []
  },
  {
   "cell_type": "code",
   "execution_count": null,
   "metadata": {},
   "outputs": [],
   "source": []
  },
  {
   "cell_type": "code",
   "execution_count": null,
   "metadata": {},
   "outputs": [],
   "source": []
  },
  {
   "cell_type": "code",
   "execution_count": null,
   "metadata": {},
   "outputs": [],
   "source": []
  },
  {
   "cell_type": "code",
   "execution_count": null,
   "metadata": {},
   "outputs": [],
   "source": []
  },
  {
   "cell_type": "code",
   "execution_count": null,
   "metadata": {},
   "outputs": [],
   "source": []
  },
  {
   "cell_type": "code",
   "execution_count": null,
   "metadata": {},
   "outputs": [],
   "source": []
  }
 ],
 "metadata": {
  "kernelspec": {
   "display_name": "Python 3 (ipykernel)",
   "language": "python",
   "name": "python3"
  },
  "language_info": {
   "codemirror_mode": {
    "name": "ipython",
    "version": 3
   },
   "file_extension": ".py",
   "mimetype": "text/x-python",
   "name": "python",
   "nbconvert_exporter": "python",
   "pygments_lexer": "ipython3",
   "version": "3.9.13"
  },
  "widgets": {
   "application/vnd.jupyter.widget-state+json": {
    "state": {},
    "version_major": 2,
    "version_minor": 0
   }
  }
 },
 "nbformat": 4,
 "nbformat_minor": 4
}
